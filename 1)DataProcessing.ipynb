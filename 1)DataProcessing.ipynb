{
  "nbformat": 4,
  "nbformat_minor": 0,
  "metadata": {
    "colab": {
      "provenance": []
    },
    "kernelspec": {
      "name": "python3",
      "display_name": "Python 3"
    },
    "language_info": {
      "name": "python"
    }
  },
  "cells": [
    {
      "cell_type": "code",
      "execution_count": 1,
      "metadata": {
        "id": "ATQsFJuN3zvz",
        "colab": {
          "base_uri": "https://localhost:8080/"
        },
        "outputId": "c0f086b9-9d9c-4571-b3d2-8c13a60f4e0a"
      },
      "outputs": [
        {
          "output_type": "stream",
          "name": "stdout",
          "text": [
            "Shape of the dataset: (1016621, 4)\n",
            "First row of the dataset:\n",
            "  ARTICLE_ID      TITLE SECTION_TITLE  \\\n",
            "0          0  Anarchism  Introduction   \n",
            "\n",
            "                                        SECTION_TEXT  \n",
            "0  \\n\\n\\n\\n\\n\\n'''Anarchism''' is a political phi...  \n"
          ]
        }
      ],
      "source": [
        "import pandas as pd\n",
        "\n",
        "# Load review datasets with specified encoding\n",
        "try:\n",
        "    dfr1 = pd.read_csv('/content/enwiki-20170820.csv', encoding='latin-1')\n",
        "except pd.errors.ParserError:\n",
        "    print(\"Error: Unable to parse the CSV file.\")\n",
        "    dfr1 = None\n",
        "\n",
        "# Check if data was successfully loaded\n",
        "if dfr1 is not None:\n",
        "    # Check the shape of the dataset\n",
        "    print(\"Shape of the dataset:\", dfr1.shape)\n",
        "\n",
        "    # Display the first row of the dataset\n",
        "    print(\"First row of the dataset:\")\n",
        "    print(dfr1.head(1))\n",
        "else:\n",
        "    print(\"No data loaded due to parsing error.\")\n"
      ]
    },
    {
      "cell_type": "code",
      "source": [
        "import pandas as pd\n",
        "\n",
        "# Load review datasets with specified encoding\n",
        "try:\n",
        "    dfr1 = pd.read_csv('/content/enwiki-20170820.csv', encoding='latin-1')\n",
        "except pd.errors.ParserError:\n",
        "    print(\"Error: Unable to parse the CSV file.\")\n",
        "    dfr1 = None\n",
        "\n",
        "# Check if data was successfully loaded\n",
        "if dfr1 is not None:\n",
        "    # Display the first few rows of the original dataset\n",
        "    print(\"First few rows of the original dataset:\")\n",
        "    print(dfr1.head())\n",
        "\n",
        "    # Select only ARTICLE_ID and SECTION_TEXT columns\n",
        "    dfr1_subset = dfr1[['ARTICLE_ID', 'SECTION_TEXT']]\n",
        "\n",
        "    # Display the first few rows of the subset\n",
        "    print(\"\\nSubset of the dataset (ARTICLE_ID and SECTION_TEXT columns only):\")\n",
        "    print(dfr1_subset.head())\n",
        "\n",
        "    # Check for missing values\n",
        "    print(\"\\nDFR1 NULL:\")\n",
        "    display(dfr1.isnull().sum())\n",
        "\n",
        "    # Drop unnecessary columns\n",
        "    dfr1.drop(columns=['TITLE', 'SECTION_TITLE'], inplace=True)\n",
        "\n",
        "    # Display the first two rows and data information after dropping columns\n",
        "    print(\"\\nDFR1 (First two rows after dropping columns):\")\n",
        "    display(dfr1.head(2))\n",
        "    print(\"\\nDFR1 (Data information after dropping columns):\")\n",
        "    display(dfr1.info())\n",
        "else:\n",
        "    print(\"No data loaded due to parsing error.\")\n"
      ],
      "metadata": {
        "colab": {
          "base_uri": "https://localhost:8080/",
          "height": 1000
        },
        "id": "mmELkfwXbWGj",
        "outputId": "3f9a8f10-416b-42e1-8c4c-26ddd7ef1fe5"
      },
      "execution_count": 5,
      "outputs": [
        {
          "output_type": "stream",
          "name": "stdout",
          "text": [
            "First few rows of the original dataset:\n",
            "                                          ARTICLE_ID      TITLE  \\\n",
            "0                                                  0  Anarchism   \n",
            "1                                                  0  Anarchism   \n",
            "2                                                  0  Anarchism   \n",
            "3  s by indigenous feminist ecological and cultur...        NaN   \n",
            "4                                                NaN        NaN   \n",
            "\n",
            "               SECTION_TITLE  \\\n",
            "0               Introduction   \n",
            "1  Etymology and terminology   \n",
            "2                    History   \n",
            "3                        NaN   \n",
            "4                        NaN   \n",
            "\n",
            "                                        SECTION_TEXT  \n",
            "0  \\n\\n\\n\\n\\n\\n'''Anarchism''' is a political phi...  \n",
            "1  \\n\\nThe term ''anarchism'' is a compound word ...  \n",
            "2  \\n\\n===Origins===\\nWoodcut from a Diggers docu...  \n",
            "3                                                NaN  \n",
            "4                                                NaN  \n",
            "\n",
            "Subset of the dataset (ARTICLE_ID and SECTION_TEXT columns only):\n",
            "                                          ARTICLE_ID  \\\n",
            "0                                                  0   \n",
            "1                                                  0   \n",
            "2                                                  0   \n",
            "3  s by indigenous feminist ecological and cultur...   \n",
            "4                                                NaN   \n",
            "\n",
            "                                        SECTION_TEXT  \n",
            "0  \\n\\n\\n\\n\\n\\n'''Anarchism''' is a political phi...  \n",
            "1  \\n\\nThe term ''anarchism'' is a compound word ...  \n",
            "2  \\n\\n===Origins===\\nWoodcut from a Diggers docu...  \n",
            "3                                                NaN  \n",
            "4                                                NaN  \n",
            "\n",
            "DFR1 NULL:\n"
          ]
        },
        {
          "output_type": "display_data",
          "data": {
            "text/plain": [
              "ARTICLE_ID       465339\n",
              "TITLE            973962\n",
              "SECTION_TITLE    973988\n",
              "SECTION_TEXT     974005\n",
              "dtype: int64"
            ]
          },
          "metadata": {}
        },
        {
          "output_type": "stream",
          "name": "stdout",
          "text": [
            "\n",
            "DFR1 (First two rows after dropping columns):\n"
          ]
        },
        {
          "output_type": "display_data",
          "data": {
            "text/plain": [
              "  ARTICLE_ID                                       SECTION_TEXT\n",
              "0          0  \\n\\n\\n\\n\\n\\n'''Anarchism''' is a political phi...\n",
              "1          0  \\n\\nThe term ''anarchism'' is a compound word ..."
            ],
            "text/html": [
              "\n",
              "  <div id=\"df-41d7569e-d0a3-40c9-83a4-e5aabeed77b6\" class=\"colab-df-container\">\n",
              "    <div>\n",
              "<style scoped>\n",
              "    .dataframe tbody tr th:only-of-type {\n",
              "        vertical-align: middle;\n",
              "    }\n",
              "\n",
              "    .dataframe tbody tr th {\n",
              "        vertical-align: top;\n",
              "    }\n",
              "\n",
              "    .dataframe thead th {\n",
              "        text-align: right;\n",
              "    }\n",
              "</style>\n",
              "<table border=\"1\" class=\"dataframe\">\n",
              "  <thead>\n",
              "    <tr style=\"text-align: right;\">\n",
              "      <th></th>\n",
              "      <th>ARTICLE_ID</th>\n",
              "      <th>SECTION_TEXT</th>\n",
              "    </tr>\n",
              "  </thead>\n",
              "  <tbody>\n",
              "    <tr>\n",
              "      <th>0</th>\n",
              "      <td>0</td>\n",
              "      <td>\\n\\n\\n\\n\\n\\n'''Anarchism''' is a political phi...</td>\n",
              "    </tr>\n",
              "    <tr>\n",
              "      <th>1</th>\n",
              "      <td>0</td>\n",
              "      <td>\\n\\nThe term ''anarchism'' is a compound word ...</td>\n",
              "    </tr>\n",
              "  </tbody>\n",
              "</table>\n",
              "</div>\n",
              "    <div class=\"colab-df-buttons\">\n",
              "\n",
              "  <div class=\"colab-df-container\">\n",
              "    <button class=\"colab-df-convert\" onclick=\"convertToInteractive('df-41d7569e-d0a3-40c9-83a4-e5aabeed77b6')\"\n",
              "            title=\"Convert this dataframe to an interactive table.\"\n",
              "            style=\"display:none;\">\n",
              "\n",
              "  <svg xmlns=\"http://www.w3.org/2000/svg\" height=\"24px\" viewBox=\"0 -960 960 960\">\n",
              "    <path d=\"M120-120v-720h720v720H120Zm60-500h600v-160H180v160Zm220 220h160v-160H400v160Zm0 220h160v-160H400v160ZM180-400h160v-160H180v160Zm440 0h160v-160H620v160ZM180-180h160v-160H180v160Zm440 0h160v-160H620v160Z\"/>\n",
              "  </svg>\n",
              "    </button>\n",
              "\n",
              "  <style>\n",
              "    .colab-df-container {\n",
              "      display:flex;\n",
              "      gap: 12px;\n",
              "    }\n",
              "\n",
              "    .colab-df-convert {\n",
              "      background-color: #E8F0FE;\n",
              "      border: none;\n",
              "      border-radius: 50%;\n",
              "      cursor: pointer;\n",
              "      display: none;\n",
              "      fill: #1967D2;\n",
              "      height: 32px;\n",
              "      padding: 0 0 0 0;\n",
              "      width: 32px;\n",
              "    }\n",
              "\n",
              "    .colab-df-convert:hover {\n",
              "      background-color: #E2EBFA;\n",
              "      box-shadow: 0px 1px 2px rgba(60, 64, 67, 0.3), 0px 1px 3px 1px rgba(60, 64, 67, 0.15);\n",
              "      fill: #174EA6;\n",
              "    }\n",
              "\n",
              "    .colab-df-buttons div {\n",
              "      margin-bottom: 4px;\n",
              "    }\n",
              "\n",
              "    [theme=dark] .colab-df-convert {\n",
              "      background-color: #3B4455;\n",
              "      fill: #D2E3FC;\n",
              "    }\n",
              "\n",
              "    [theme=dark] .colab-df-convert:hover {\n",
              "      background-color: #434B5C;\n",
              "      box-shadow: 0px 1px 3px 1px rgba(0, 0, 0, 0.15);\n",
              "      filter: drop-shadow(0px 1px 2px rgba(0, 0, 0, 0.3));\n",
              "      fill: #FFFFFF;\n",
              "    }\n",
              "  </style>\n",
              "\n",
              "    <script>\n",
              "      const buttonEl =\n",
              "        document.querySelector('#df-41d7569e-d0a3-40c9-83a4-e5aabeed77b6 button.colab-df-convert');\n",
              "      buttonEl.style.display =\n",
              "        google.colab.kernel.accessAllowed ? 'block' : 'none';\n",
              "\n",
              "      async function convertToInteractive(key) {\n",
              "        const element = document.querySelector('#df-41d7569e-d0a3-40c9-83a4-e5aabeed77b6');\n",
              "        const dataTable =\n",
              "          await google.colab.kernel.invokeFunction('convertToInteractive',\n",
              "                                                    [key], {});\n",
              "        if (!dataTable) return;\n",
              "\n",
              "        const docLinkHtml = 'Like what you see? Visit the ' +\n",
              "          '<a target=\"_blank\" href=https://colab.research.google.com/notebooks/data_table.ipynb>data table notebook</a>'\n",
              "          + ' to learn more about interactive tables.';\n",
              "        element.innerHTML = '';\n",
              "        dataTable['output_type'] = 'display_data';\n",
              "        await google.colab.output.renderOutput(dataTable, element);\n",
              "        const docLink = document.createElement('div');\n",
              "        docLink.innerHTML = docLinkHtml;\n",
              "        element.appendChild(docLink);\n",
              "      }\n",
              "    </script>\n",
              "  </div>\n",
              "\n",
              "\n",
              "<div id=\"df-b0b766f9-0aa3-4449-8749-e015fc250b56\">\n",
              "  <button class=\"colab-df-quickchart\" onclick=\"quickchart('df-b0b766f9-0aa3-4449-8749-e015fc250b56')\"\n",
              "            title=\"Suggest charts\"\n",
              "            style=\"display:none;\">\n",
              "\n",
              "<svg xmlns=\"http://www.w3.org/2000/svg\" height=\"24px\"viewBox=\"0 0 24 24\"\n",
              "     width=\"24px\">\n",
              "    <g>\n",
              "        <path d=\"M19 3H5c-1.1 0-2 .9-2 2v14c0 1.1.9 2 2 2h14c1.1 0 2-.9 2-2V5c0-1.1-.9-2-2-2zM9 17H7v-7h2v7zm4 0h-2V7h2v10zm4 0h-2v-4h2v4z\"/>\n",
              "    </g>\n",
              "</svg>\n",
              "  </button>\n",
              "\n",
              "<style>\n",
              "  .colab-df-quickchart {\n",
              "      --bg-color: #E8F0FE;\n",
              "      --fill-color: #1967D2;\n",
              "      --hover-bg-color: #E2EBFA;\n",
              "      --hover-fill-color: #174EA6;\n",
              "      --disabled-fill-color: #AAA;\n",
              "      --disabled-bg-color: #DDD;\n",
              "  }\n",
              "\n",
              "  [theme=dark] .colab-df-quickchart {\n",
              "      --bg-color: #3B4455;\n",
              "      --fill-color: #D2E3FC;\n",
              "      --hover-bg-color: #434B5C;\n",
              "      --hover-fill-color: #FFFFFF;\n",
              "      --disabled-bg-color: #3B4455;\n",
              "      --disabled-fill-color: #666;\n",
              "  }\n",
              "\n",
              "  .colab-df-quickchart {\n",
              "    background-color: var(--bg-color);\n",
              "    border: none;\n",
              "    border-radius: 50%;\n",
              "    cursor: pointer;\n",
              "    display: none;\n",
              "    fill: var(--fill-color);\n",
              "    height: 32px;\n",
              "    padding: 0;\n",
              "    width: 32px;\n",
              "  }\n",
              "\n",
              "  .colab-df-quickchart:hover {\n",
              "    background-color: var(--hover-bg-color);\n",
              "    box-shadow: 0 1px 2px rgba(60, 64, 67, 0.3), 0 1px 3px 1px rgba(60, 64, 67, 0.15);\n",
              "    fill: var(--button-hover-fill-color);\n",
              "  }\n",
              "\n",
              "  .colab-df-quickchart-complete:disabled,\n",
              "  .colab-df-quickchart-complete:disabled:hover {\n",
              "    background-color: var(--disabled-bg-color);\n",
              "    fill: var(--disabled-fill-color);\n",
              "    box-shadow: none;\n",
              "  }\n",
              "\n",
              "  .colab-df-spinner {\n",
              "    border: 2px solid var(--fill-color);\n",
              "    border-color: transparent;\n",
              "    border-bottom-color: var(--fill-color);\n",
              "    animation:\n",
              "      spin 1s steps(1) infinite;\n",
              "  }\n",
              "\n",
              "  @keyframes spin {\n",
              "    0% {\n",
              "      border-color: transparent;\n",
              "      border-bottom-color: var(--fill-color);\n",
              "      border-left-color: var(--fill-color);\n",
              "    }\n",
              "    20% {\n",
              "      border-color: transparent;\n",
              "      border-left-color: var(--fill-color);\n",
              "      border-top-color: var(--fill-color);\n",
              "    }\n",
              "    30% {\n",
              "      border-color: transparent;\n",
              "      border-left-color: var(--fill-color);\n",
              "      border-top-color: var(--fill-color);\n",
              "      border-right-color: var(--fill-color);\n",
              "    }\n",
              "    40% {\n",
              "      border-color: transparent;\n",
              "      border-right-color: var(--fill-color);\n",
              "      border-top-color: var(--fill-color);\n",
              "    }\n",
              "    60% {\n",
              "      border-color: transparent;\n",
              "      border-right-color: var(--fill-color);\n",
              "    }\n",
              "    80% {\n",
              "      border-color: transparent;\n",
              "      border-right-color: var(--fill-color);\n",
              "      border-bottom-color: var(--fill-color);\n",
              "    }\n",
              "    90% {\n",
              "      border-color: transparent;\n",
              "      border-bottom-color: var(--fill-color);\n",
              "    }\n",
              "  }\n",
              "</style>\n",
              "\n",
              "  <script>\n",
              "    async function quickchart(key) {\n",
              "      const quickchartButtonEl =\n",
              "        document.querySelector('#' + key + ' button');\n",
              "      quickchartButtonEl.disabled = true;  // To prevent multiple clicks.\n",
              "      quickchartButtonEl.classList.add('colab-df-spinner');\n",
              "      try {\n",
              "        const charts = await google.colab.kernel.invokeFunction(\n",
              "            'suggestCharts', [key], {});\n",
              "      } catch (error) {\n",
              "        console.error('Error during call to suggestCharts:', error);\n",
              "      }\n",
              "      quickchartButtonEl.classList.remove('colab-df-spinner');\n",
              "      quickchartButtonEl.classList.add('colab-df-quickchart-complete');\n",
              "    }\n",
              "    (() => {\n",
              "      let quickchartButtonEl =\n",
              "        document.querySelector('#df-b0b766f9-0aa3-4449-8749-e015fc250b56 button');\n",
              "      quickchartButtonEl.style.display =\n",
              "        google.colab.kernel.accessAllowed ? 'block' : 'none';\n",
              "    })();\n",
              "  </script>\n",
              "</div>\n",
              "    </div>\n",
              "  </div>\n"
            ],
            "application/vnd.google.colaboratory.intrinsic+json": {
              "type": "dataframe",
              "summary": "{\n  \"name\": \"    print(\\\"No data loaded due to parsing error\",\n  \"rows\": 2,\n  \"fields\": [\n    {\n      \"column\": \"ARTICLE_ID\",\n      \"properties\": {\n        \"dtype\": \"string\",\n        \"num_unique_values\": 1,\n        \"samples\": [\n          \"0\"\n        ],\n        \"semantic_type\": \"\",\n        \"description\": \"\"\n      }\n    },\n    {\n      \"column\": \"SECTION_TEXT\",\n      \"properties\": {\n        \"dtype\": \"string\",\n        \"num_unique_values\": 2,\n        \"samples\": [\n          \"\\n\\nThe term ''anarchism'' is a compound word composed from the word ''anarchy'' and the suffix ''-ism'' themselves derived respectively from the Greek  i.e. ''anarchy'' (from  ''anarchos'' meaning \\\"one without rulers\\\"; from the privative prefix \\u00e1\\u00bc\\u0080\\u00ce\\u00bd- (''an-'' i.e. \\\"without\\\") and  ''archos'' i.e. \\\"leader\\\" \\\"ruler\\\"; (cf. ''archon'' or  ''arkh\\u00c4\\u0093'' i.e. \\\"authority\\\" \\\"sovereignty\\\" \\\"realm\\\" \\\"magistracy\\\")) and the suffix  or  (''-ismos'' ''-isma'' from the verbal infinitive suffix -\\u00ce\\u00af\\u00ce\\u00b6\\u00ce\\u00b5\\u00ce\\u00b9\\u00ce\\u00bd ''-izein''). The first known use of this word was in 1539. Various factions within the French Revolution labelled opponents as anarchists (as Robespierre did the H\\u00c3\\u00a9bertists) although few shared many views of later anarchists.  There would be many revolutionaries of the early nineteenth century who contributed to the anarchist doctrines of the next generation such as William Godwin and Wilhelm Weitling but they did not use the word ''anarchist'' or ''anarchism'' in describing themselves or their beliefs.\\n\\nThe first political philosopher to call himself an anarchist was Pierre-Joseph Proudhon marking the formal birth of anarchism in the mid-nineteenth century. Since the 1890s and beginning in France the term ''libertarianism'' has often been used as a synonym for anarchism and was used almost exclusively in this sense until the 1950s in the United States; its use as a synonym is still common outside the United States. On the other hand some use ''libertarianism'' to refer to individualistic free-market philosophy only referring to free-market anarchism as ''libertarian anarchism''.\\n\"\n        ],\n        \"semantic_type\": \"\",\n        \"description\": \"\"\n      }\n    }\n  ]\n}"
            }
          },
          "metadata": {}
        },
        {
          "output_type": "stream",
          "name": "stdout",
          "text": [
            "\n",
            "DFR1 (Data information after dropping columns):\n",
            "<class 'pandas.core.frame.DataFrame'>\n",
            "RangeIndex: 1016621 entries, 0 to 1016620\n",
            "Data columns (total 2 columns):\n",
            " #   Column        Non-Null Count   Dtype \n",
            "---  ------        --------------   ----- \n",
            " 0   ARTICLE_ID    551282 non-null  object\n",
            " 1   SECTION_TEXT  42616 non-null   object\n",
            "dtypes: object(2)\n",
            "memory usage: 15.5+ MB\n"
          ]
        },
        {
          "output_type": "display_data",
          "data": {
            "text/plain": [
              "None"
            ]
          },
          "metadata": {}
        }
      ]
    },
    {
      "cell_type": "code",
      "source": [
        "# Rename columns for consistency\n",
        "dfr1.rename(columns={'ARTICLE_ID':'id'}, inplace=True)\n",
        "dfr1.rename(columns={'SECTION_TEXT':'content'}, inplace=True)"
      ],
      "metadata": {
        "id": "NN6vJw0kbibt"
      },
      "execution_count": 10,
      "outputs": []
    },
    {
      "cell_type": "code",
      "source": [
        "import nltk\n",
        "\n",
        "# Download NLTK tokenizer data\n",
        "nltk.download('punkt')"
      ],
      "metadata": {
        "colab": {
          "base_uri": "https://localhost:8080/"
        },
        "id": "KSBbIq6JekgW",
        "outputId": "3b0e16fa-e03f-4401-afae-c3a0cde62b59"
      },
      "execution_count": 15,
      "outputs": [
        {
          "output_type": "stream",
          "name": "stderr",
          "text": [
            "[nltk_data] Downloading package punkt to /root/nltk_data...\n",
            "[nltk_data]   Package punkt is already up-to-date!\n"
          ]
        },
        {
          "output_type": "execute_result",
          "data": {
            "text/plain": [
              "True"
            ]
          },
          "metadata": {},
          "execution_count": 15
        }
      ]
    },
    {
      "cell_type": "code",
      "source": [
        "import pandas as pd\n",
        "import re\n",
        "from nltk.tokenize import word_tokenize\n",
        "import nltk\n",
        "\n",
        "# Load review dataset with specified encoding\n",
        "try:\n",
        "    dfr1 = pd.read_csv('/content/enwiki-20170820.csv', encoding='latin-1')\n",
        "except pd.errors.ParserError:\n",
        "    print(\"Error: Unable to parse the CSV file.\")\n",
        "    dfr1 = None\n",
        "\n",
        "# Check if data was successfully loaded\n",
        "if dfr1 is not None:\n",
        "    # Drop rows with missing values\n",
        "    dfr1.dropna(inplace=True)\n",
        "\n",
        "    # Tokenize the review content\n",
        "    dfr1['SECTION_TEXT'] = dfr1['SECTION_TEXT'].apply(lambda x: word_tokenize(str(x)))\n",
        "\n",
        "    # Remove non-alphanumeric characters from review content\n",
        "    dfr1['SECTION_TEXT'] = dfr1['SECTION_TEXT'].apply(lambda x: [re.sub(r'\\W', ' ', word) for word in x])\n",
        "\n",
        "    # Save the preprocessed data to a separate file\n",
        "    output_file_path = '/content/preprocessed_data.csv'\n",
        "    dfr1.to_csv(output_file_path, index=False)\n",
        "    print(f\"Preprocessed data saved to {output_file_path}\")\n",
        "\n",
        "else:\n",
        "    print(\"No data loaded due to parsing error.\")\n"
      ],
      "metadata": {
        "colab": {
          "base_uri": "https://localhost:8080/"
        },
        "id": "T4VdZwwjcjoN",
        "outputId": "2aa9e021-6eca-4243-b1fb-a9744288af07"
      },
      "execution_count": 19,
      "outputs": [
        {
          "output_type": "stream",
          "name": "stdout",
          "text": [
            "Preprocessed data saved to /content/preprocessed_data.csv\n"
          ]
        }
      ]
    },
    {
      "cell_type": "code",
      "source": [
        "import pandas as pd\n",
        "import re\n",
        "import nltk\n",
        "import concurrent.futures\n",
        "from nltk.tokenize import word_tokenize\n",
        "from nltk.corpus import stopwords\n",
        "from nltk.stem import PorterStemmer, WordNetLemmatizer\n",
        "\n",
        "# Download NLTK data\n",
        "nltk.download('punkt')\n",
        "nltk.download('stopwords')\n",
        "nltk.download('wordnet')"
      ],
      "metadata": {
        "colab": {
          "base_uri": "https://localhost:8080/"
        },
        "id": "s2zP0IIhoyO7",
        "outputId": "86307114-57f2-4d57-8f4a-db25bd43a122"
      },
      "execution_count": 39,
      "outputs": [
        {
          "output_type": "stream",
          "name": "stderr",
          "text": [
            "[nltk_data] Downloading package punkt to /root/nltk_data...\n",
            "[nltk_data]   Package punkt is already up-to-date!\n",
            "[nltk_data] Downloading package stopwords to /root/nltk_data...\n",
            "[nltk_data]   Package stopwords is already up-to-date!\n",
            "[nltk_data] Downloading package wordnet to /root/nltk_data...\n",
            "[nltk_data]   Package wordnet is already up-to-date!\n"
          ]
        },
        {
          "output_type": "execute_result",
          "data": {
            "text/plain": [
              "True"
            ]
          },
          "metadata": {},
          "execution_count": 39
        }
      ]
    },
    {
      "cell_type": "code",
      "source": [
        "# Load preprocessed data CSV\n",
        "preprocessed_data_path = '/content/preprocessed_data.csv'\n",
        "try:\n",
        "    sample_df = pd.read_csv(preprocessed_data_path)\n",
        "except pd.errors.ParserError:\n",
        "    print(f\"Error: Unable to parse the CSV file at {preprocessed_data_path}.\")\n",
        "    sample_df = None\n",
        "\n",
        "# Check if data was successfully loaded\n",
        "if sample_df is not None:\n",
        "    # Check for missing values\n",
        "    print(\"\\nsample_df NULL:\")\n",
        "    display(sample_df.isnull().sum())\n",
        "\n",
        "    # Drop rows with missing values\n",
        "    sample_df.dropna(inplace=True)\n",
        "\n",
        "    # Drop unnecessary columns\n",
        "    sample_df.drop(columns=['TITLE', 'SECTION_TITLE'], inplace=True)\n",
        "\n",
        "    # Define function for preprocessing\n",
        "    def preprocess_text(text):\n",
        "        text = text.lower()\n",
        "\n",
        "        # Tokenize\n",
        "        words = word_tokenize(text)\n",
        "        stop_words = set(stopwords.words('english'))\n",
        "        filtered_words = [word for word in words if word not in stop_words]\n",
        "\n",
        "        return ' '.join(filtered_words)  # corrected return statement\n",
        "\n",
        "    # Apply preprocessing to the 'SECTION_TEXT' column\n",
        "    sample_df['SECTION_TEXT'] = sample_df['SECTION_TEXT'].apply(preprocess_text)\n",
        "\n",
        "    # Remove commas and special characters from review content\n",
        "    sample_df['SECTION_TEXT'] = sample_df['SECTION_TEXT'].apply(lambda x: re.sub(r'[^\\w\\s]', '', x))\n",
        "\n",
        "    # Display the first rows of the dataset\n",
        "    print(\"First rows of the dataset:\")\n",
        "    print(sample_df.head(10))\n",
        "\n",
        "    # Save the cleaned and preprocessed data to a new CSV file\n",
        "    cleaned_preprocessed_data_path = '/content/cleaned_preprocessed_data.csv'\n",
        "    sample_df.to_csv(cleaned_preprocessed_data_path, index=False)\n",
        "    print(f\"Cleaned and preprocessed data saved to {cleaned_preprocessed_data_path}\")\n",
        "else:\n",
        "    print(\"No data loaded due to parsing error.\")\n"
      ],
      "metadata": {
        "colab": {
          "base_uri": "https://localhost:8080/",
          "height": 364
        },
        "id": "OxkJGDTTgppy",
        "outputId": "122b0264-77f4-40e4-8c4b-5604f1740a47"
      },
      "execution_count": 40,
      "outputs": [
        {
          "output_type": "stream",
          "name": "stdout",
          "text": [
            "\n",
            "sample_df NULL:\n"
          ]
        },
        {
          "output_type": "display_data",
          "data": {
            "text/plain": [
              "ARTICLE_ID       0\n",
              "TITLE            0\n",
              "SECTION_TITLE    0\n",
              "SECTION_TEXT     0\n",
              "dtype: int64"
            ]
          },
          "metadata": {}
        },
        {
          "output_type": "stream",
          "name": "stdout",
          "text": [
            "First rows of the dataset:\n",
            "   ARTICLE_ID                                       SECTION_TEXT\n",
            "0           0       anarchism         is      political   phi...\n",
            "1           0   the   term      anarchism      is      compou...\n",
            "2           0    origins   woodcut   from      diggers   docu...\n",
            "3          21       agricultural   science         is      br...\n",
            "4          21   the   three   terms   are   often   confused ...\n",
            "5          21   one   of   the   most   common   yield   redu...\n",
            "6          21   with   the   exception   of   theoretical   a...\n",
            "7          21   agricultural   science   began   with   grego...\n",
            "8          21   norman   borlaug   father   of   the   green ...\n",
            "9          21   agriculture   sciences   seek   to   feed   t...\n",
            "Cleaned and preprocessed data saved to /content/cleaned_preprocessed_data.csv\n"
          ]
        }
      ]
    }
  ]
}