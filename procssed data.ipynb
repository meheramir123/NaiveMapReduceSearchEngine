{
  "nbformat": 4,
  "nbformat_minor": 0,
  "metadata": {
    "colab": {
      "provenance": []
    },
    "kernelspec": {
      "name": "python3",
      "display_name": "Python 3"
    },
    "language_info": {
      "name": "python"
    }
  },
  "cells": [
    {
      "cell_type": "code",
      "execution_count": 12,
      "metadata": {
        "id": "uv2k-85lYTZY",
        "colab": {
          "base_uri": "https://localhost:8080/"
        },
        "outputId": "5022c076-30d4-45e6-ab07-32951f899ae7"
      },
      "outputs": [
        {
          "output_type": "stream",
          "name": "stderr",
          "text": [
            "[nltk_data] Downloading package averaged_perceptron_tagger to\n",
            "[nltk_data]     /root/nltk_data...\n",
            "[nltk_data]   Unzipping taggers/averaged_perceptron_tagger.zip.\n",
            "[nltk_data] Downloading package punkt to /root/nltk_data...\n",
            "[nltk_data]   Package punkt is already up-to-date!\n",
            "[nltk_data] Downloading package stopwords to /root/nltk_data...\n",
            "[nltk_data]   Package stopwords is already up-to-date!\n",
            "[nltk_data] Downloading package wordnet to /root/nltk_data...\n",
            "[nltk_data]   Package wordnet is already up-to-date!\n"
          ]
        }
      ],
      "source": [
        "import pandas as pd\n",
        "import nltk\n",
        "import string\n",
        "from nltk.corpus import stopwords\n",
        "from nltk.tokenize import word_tokenize\n",
        "from nltk.stem import WordNetLemmatizer\n",
        "\n",
        "# Download missing NLTK resource\n",
        "nltk.download('averaged_perceptron_tagger')\n",
        "\n",
        "# Download NLTK resources\n",
        "nltk.download('punkt')\n",
        "nltk.download('stopwords')\n",
        "nltk.download('wordnet')\n",
        "\n",
        "# Initialize WordNet Lemmatizer\n",
        "lemmatizer = WordNetLemmatizer()\n",
        "\n",
        "# Load CSV data into a DataFrame\n",
        "df = pd.read_csv(\"/content/updated_cleaned_preprocessed_data.csv\")\n",
        "\n",
        "# Drop null rows\n",
        "df.dropna(inplace=True)\n",
        "\n",
        "# Tokenize the text and remove punctuation\n",
        "def preprocess_text(text):\n",
        "    # Remove punctuation\n",
        "    text = text.translate(str.maketrans('', '', string.punctuation))\n",
        "\n",
        "    # Tokenize the text\n",
        "    tokens = word_tokenize(text)\n",
        "\n",
        "    # Remove stop words and lemmatize\n",
        "    stop_words = set(stopwords.words('english'))\n",
        "    tagged_tokens = nltk.pos_tag(tokens)\n",
        "    filtered_tokens = []\n",
        "    for word, tag in tagged_tokens:\n",
        "        if word.lower() not in stop_words:\n",
        "            if tag.startswith('N'):\n",
        "                pos = 'n'\n",
        "            elif tag.startswith('V'):\n",
        "                pos = 'v'\n",
        "            elif tag.startswith('R'):\n",
        "                pos = 'r'\n",
        "            else:\n",
        "                pos = 'a'\n",
        "            filtered_tokens.append(lemmatizer.lemmatize(word.lower(), pos=pos))\n",
        "\n",
        "    # Join the lemmatized tokens back into a string\n",
        "    return ' '.join(filtered_tokens)\n",
        "\n",
        "# Apply text preprocessing function to the text column\n",
        "if 'SECTION_TEXT' in df.columns:\n",
        "    df['SECTION_TEXT'] = df['SECTION_TEXT'].apply(preprocess_text)\n",
        "else:\n",
        "    print(\"Column 'text' not found in the DataFrame.\")\n",
        "\n",
        "# Write processed data to a new CSV file\n",
        "df.to_csv(\"processed_data.csv\", index=False)\n"
      ]
    }
  ]
}